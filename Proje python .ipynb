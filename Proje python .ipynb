{
 "cells": [
  {
   "cell_type": "markdown",
   "id": "0302c2e4",
   "metadata": {},
   "source": [
    "# PROJE (PYTHON)"
   ]
  },
  {
   "cell_type": "markdown",
   "id": "5adbf412",
   "metadata": {},
   "source": [
    "## SORU 1 - CEVAP"
   ]
  },
  {
   "cell_type": "code",
   "execution_count": 84,
   "id": "e06db608",
   "metadata": {},
   "outputs": [
    {
     "name": "stdout",
     "output_type": "stream",
     "text": [
      "1\n",
      "a\n",
      "2\n",
      "'cat'\n",
      "dog\n",
      "3\n"
     ]
    }
   ],
   "source": [
    "liste = [[1,'a',['cat'],2],[[[3]],'dog'],4,5]\n",
    "x = []\n",
    "\n",
    "for l in liste[0] :\n",
    "    if l ==liste[0][2] :\n",
    "        continue\n",
    "    x.append(l)\n",
    "    print(l)\n",
    "for m in liste[0][2]:\n",
    "    x.append(m)\n",
    "    print(\"'{}'\".format(m))\n",
    "for e in liste[1] :\n",
    "    if e == liste[1][0]:\n",
    "        continue\n",
    "    x.append(e)\n",
    "    print(e)\n",
    "for n in liste[1][0][0] :\n",
    "    x.append(n)\n",
    "    print(n)\n",
    "    \n",
    "x.append(liste[2])\n",
    "x.append(liste[3])"
   ]
  },
  {
   "cell_type": "code",
   "execution_count": 85,
   "id": "f4be05d1",
   "metadata": {},
   "outputs": [
    {
     "data": {
      "text/plain": [
       "[1, 'a', 2, 'cat', 'dog', 3, 4, 5]"
      ]
     },
     "execution_count": 85,
     "metadata": {},
     "output_type": "execute_result"
    }
   ],
   "source": [
    "x"
   ]
  },
  {
   "cell_type": "markdown",
   "id": "82a94337",
   "metadata": {},
   "source": [
    "## SORU 2 - CEVAP"
   ]
  },
  {
   "cell_type": "code",
   "execution_count": 101,
   "id": "bc2c392e",
   "metadata": {},
   "outputs": [
    {
     "name": "stdout",
     "output_type": "stream",
     "text": [
      "[[7, 6, 5], [4, 3], [2, 1]]\n"
     ]
    }
   ],
   "source": [
    "lst = [[1, 2], [3, 4], [5, 6, 7]]\n",
    "def Ters(lst):\n",
    "    lst.reverse() \n",
    "    return lst \n",
    "lst[0].reverse()\n",
    "lst[1].reverse()\n",
    "lst[2].reverse()\n",
    "\n",
    "\n",
    "print(Ters(lst))\n",
    " "
   ]
  }
 ],
 "metadata": {
  "kernelspec": {
   "display_name": "Python 3 (ipykernel)",
   "language": "python",
   "name": "python3"
  },
  "language_info": {
   "codemirror_mode": {
    "name": "ipython",
    "version": 3
   },
   "file_extension": ".py",
   "mimetype": "text/x-python",
   "name": "python",
   "nbconvert_exporter": "python",
   "pygments_lexer": "ipython3",
   "version": "3.10.7"
  }
 },
 "nbformat": 4,
 "nbformat_minor": 5
}
